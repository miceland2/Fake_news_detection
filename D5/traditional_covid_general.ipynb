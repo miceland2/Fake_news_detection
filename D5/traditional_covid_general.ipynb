{
 "cells": [
  {
   "cell_type": "code",
   "execution_count": 1,
   "id": "6ec247c0",
   "metadata": {},
   "outputs": [],
   "source": [
    "import pandas as pd\n",
    "\n",
    "train_df = pd.read_csv('train.tsv', sep='\\t')\n",
    "val_df = pd.read_csv('val.tsv', sep='\\t')\n",
    "\n",
    "val_df_liar = pd.read_csv('../D2/val.tsv', sep='\\t')\n",
    "val_df_fnd = pd.read_csv('../D3/val.tsv', sep='\\t')\n",
    "val_df_fnn = pd.read_csv('../D4/val.tsv', sep='\\t')\n",
    "val_df_isot = pd.read_csv('../D5/val.tsv', sep='\\t')"
   ]
  },
  {
   "cell_type": "code",
   "execution_count": 2,
   "id": "f4e7bde4",
   "metadata": {},
   "outputs": [
    {
     "data": {
      "text/plain": [
       "0"
      ]
     },
     "execution_count": 2,
     "metadata": {},
     "output_type": "execute_result"
    }
   ],
   "source": [
    "# no null values in dataset\n",
    "train_df['title'].isnull().sum()"
   ]
  },
  {
   "cell_type": "code",
   "execution_count": 3,
   "id": "22deca4a",
   "metadata": {},
   "outputs": [
    {
     "data": {
      "text/plain": [
       "0"
      ]
     },
     "execution_count": 3,
     "metadata": {},
     "output_type": "execute_result"
    }
   ],
   "source": [
    "val_df['title'].isnull().sum()"
   ]
  },
  {
   "cell_type": "code",
   "execution_count": 4,
   "id": "a3082add",
   "metadata": {},
   "outputs": [
    {
     "name": "stdout",
     "output_type": "stream",
     "text": [
      "Train real news: 1670\n",
      "Train fake news: 824\n",
      "Val real news: 391\n",
      "Val fake news: 233\n"
     ]
    }
   ],
   "source": [
    "print('Train real news:', train_df[train_df['true']==1].shape[0])\n",
    "print('Train fake news:', train_df[train_df['true']==0].shape[0])\n",
    "\n",
    "print('Val real news:', val_df[val_df['true']==1].shape[0])\n",
    "print('Val fake news:', val_df[val_df['true']==0].shape[0])"
   ]
  },
  {
   "cell_type": "code",
   "execution_count": 5,
   "id": "001d44ea",
   "metadata": {},
   "outputs": [
    {
     "data": {
      "text/plain": [
       "'China confirms 6 deaths due to Corona Virus'"
      ]
     },
     "execution_count": 5,
     "metadata": {},
     "output_type": "execute_result"
    }
   ],
   "source": [
    "#sample real news\n",
    "train_df[train_df['true']==1].sample(n=1)['title'].iloc[0]"
   ]
  },
  {
   "cell_type": "code",
   "execution_count": 6,
   "id": "ba0b9d14",
   "metadata": {},
   "outputs": [
    {
     "data": {
      "text/plain": [
       "'Precious Casino industry, new Corona, emergency... Restrictions on cluster.'"
      ]
     },
     "execution_count": 6,
     "metadata": {},
     "output_type": "execute_result"
    }
   ],
   "source": [
    "#sample fake news\n",
    "train_df[train_df['true']==0].sample(n=1)['title'].iloc[0]"
   ]
  },
  {
   "cell_type": "code",
   "execution_count": 7,
   "id": "482836a8",
   "metadata": {},
   "outputs": [
    {
     "data": {
      "text/plain": [
       "count    2494.000000\n",
       "mean       10.121893\n",
       "std         4.153345\n",
       "min         1.000000\n",
       "25%         7.000000\n",
       "50%        10.000000\n",
       "75%        12.000000\n",
       "max        33.000000\n",
       "Name: title, dtype: float64"
      ]
     },
     "execution_count": 7,
     "metadata": {},
     "output_type": "execute_result"
    }
   ],
   "source": [
    "# word count in news\n",
    "word_counts_train = train_df['title'].apply(lambda x: len(x.split()))\n",
    "word_counts_train.describe()"
   ]
  },
  {
   "cell_type": "code",
   "execution_count": 8,
   "id": "4467a854",
   "metadata": {},
   "outputs": [
    {
     "data": {
      "text/plain": [
       "count    624.000000\n",
       "mean      10.296474\n",
       "std        4.230546\n",
       "min        2.000000\n",
       "25%        7.000000\n",
       "50%       10.000000\n",
       "75%       12.000000\n",
       "max       29.000000\n",
       "Name: title, dtype: float64"
      ]
     },
     "execution_count": 8,
     "metadata": {},
     "output_type": "execute_result"
    }
   ],
   "source": [
    "word_counts_val = val_df['title'].apply(lambda x: len(x.split()))\n",
    "word_counts_val.describe()"
   ]
  },
  {
   "cell_type": "code",
   "execution_count": 9,
   "id": "d9d3abdf",
   "metadata": {},
   "outputs": [
    {
     "data": {
      "image/png": "[encoded data removed]",
      "text/plain": [
       "<Figure size 640x480 with 1 Axes>"
      ]
     },
     "metadata": {},
     "output_type": "display_data"
    }
   ],
   "source": [
    "import matplotlib.pyplot as plt\n",
    "\n",
    "plt.boxplot(word_counts_train)\n",
    "plt.grid(True)\n",
    "plt.show()"
   ]
  },
  {
   "cell_type": "code",
   "execution_count": 10,
   "id": "9e337271",
   "metadata": {},
   "outputs": [
    {
     "name": "stderr",
     "output_type": "stream",
     "text": [
      "[nltk_data] Downloading package punkt to\n",
      "[nltk_data]     C:\\Users\\mai5279\\AppData\\Roaming\\nltk_data...\n",
      "[nltk_data]   Package punkt is already up-to-date!\n",
      "[nltk_data] Downloading package stopwords to\n",
      "[nltk_data]     C:\\Users\\mai5279\\AppData\\Roaming\\nltk_data...\n",
      "[nltk_data]   Package stopwords is already up-to-date!\n",
      "[nltk_data] Downloading package wordnet to\n",
      "[nltk_data]     C:\\Users\\mai5279\\AppData\\Roaming\\nltk_data...\n",
      "[nltk_data]   Package wordnet is already up-to-date!\n"
     ]
    }
   ],
   "source": [
    "import re\n",
    "import nltk\n",
    "nltk.download('punkt')\n",
    "nltk.download('stopwords')\n",
    "nltk.download('wordnet')\n",
    "from nltk.corpus import stopwords\n",
    "from nltk.tokenize import word_tokenize\n",
    "from nltk.stem import WordNetLemmatizer"
   ]
  },
  {
   "cell_type": "code",
   "execution_count": 11,
   "id": "5f9e306f",
   "metadata": {},
   "outputs": [],
   "source": [
    "stop_words = stopwords.words('english')\n",
    "stop_words.remove('not')\n",
    "lemmatizer = WordNetLemmatizer()"
   ]
  },
  {
   "cell_type": "code",
   "execution_count": 12,
   "id": "88270770",
   "metadata": {},
   "outputs": [],
   "source": [
    "def data_preprocessing(review):\n",
    "    \n",
    "    # data cleaning\n",
    "    review = re.sub(re.compile('<.*?>'), '', review) # remove html tags\n",
    "    review = re.sub('[^A-Za-z0-9]+', ' ', review) # taking only words\n",
    "    \n",
    "    # lowercase\n",
    "    review = review.lower()\n",
    "    \n",
    "    # tokenization\n",
    "    tokens = nltk.word_tokenize(review)\n",
    "    \n",
    "    # stop word removal\n",
    "    review = [word for word in tokens if word not in stop_words]\n",
    "    \n",
    "    # lemmatization\n",
    "    review = [lemmatizer.lemmatize(word) for word in review]\n",
    "    \n",
    "    # join words in preprocessed review\n",
    "    review = ' '.join(review)\n",
    "    \n",
    "    return review"
   ]
  },
  {
   "cell_type": "code",
   "execution_count": 13,
   "id": "31af3336",
   "metadata": {},
   "outputs": [
    {
     "name": "stderr",
     "output_type": "stream",
     "text": [
      "[nltk_data] Downloading package omw-1.4 to\n",
      "[nltk_data]     C:\\Users\\mai5279\\AppData\\Roaming\\nltk_data...\n",
      "[nltk_data]   Package omw-1.4 is already up-to-date!\n"
     ]
    },
    {
     "data": {
      "text/plain": [
       "True"
      ]
     },
     "execution_count": 13,
     "metadata": {},
     "output_type": "execute_result"
    }
   ],
   "source": [
    "nltk.download('omw-1.4')"
   ]
  },
  {
   "cell_type": "code",
   "execution_count": 14,
   "id": "ac2ac9e2",
   "metadata": {},
   "outputs": [
    {
     "data": {
      "text/html": [
       "<div>\n",
       "<style scoped>\n",
       "    .dataframe tbody tr th:only-of-type {\n",
       "        vertical-align: middle;\n",
       "    }\n",
       "\n",
       "    .dataframe tbody tr th {\n",
       "        vertical-align: top;\n",
       "    }\n",
       "\n",
       "    .dataframe thead th {\n",
       "        text-align: right;\n",
       "    }\n",
       "</style>\n",
       "<table border=\"1\" class=\"dataframe\">\n",
       "  <thead>\n",
       "    <tr style=\"text-align: right;\">\n",
       "      <th></th>\n",
       "      <th>title</th>\n",
       "      <th>true</th>\n",
       "      <th>preprocessed_title</th>\n",
       "    </tr>\n",
       "  </thead>\n",
       "  <tbody>\n",
       "    <tr>\n",
       "      <th>0</th>\n",
       "      <td>Newly-Identified Coronavirus 2019-nCoV: Here’s...</td>\n",
       "      <td>1</td>\n",
       "      <td>newly identified coronavirus 2019 ncov need know</td>\n",
       "    </tr>\n",
       "    <tr>\n",
       "      <th>1</th>\n",
       "      <td>China travel ban 'vital' in preventing 2019-nC...</td>\n",
       "      <td>1</td>\n",
       "      <td>china travel ban vital preventing 2019 ncov ou...</td>\n",
       "    </tr>\n",
       "    <tr>\n",
       "      <th>2</th>\n",
       "      <td>B.C. confirms first case of coronavirus 2019-nCoV</td>\n",
       "      <td>1</td>\n",
       "      <td>b c confirms first case coronavirus 2019 ncov</td>\n",
       "    </tr>\n",
       "    <tr>\n",
       "      <th>3</th>\n",
       "      <td>Kash Doll makes a racist anti-asian joke about...</td>\n",
       "      <td>0</td>\n",
       "      <td>kash doll make racist anti asian joke corona v...</td>\n",
       "    </tr>\n",
       "    <tr>\n",
       "      <th>4</th>\n",
       "      <td>DOH now monitoring two other PUIs in Cebu City...</td>\n",
       "      <td>1</td>\n",
       "      <td>doh monitoring two puis cebu city suspected 20...</td>\n",
       "    </tr>\n",
       "    <tr>\n",
       "      <th>...</th>\n",
       "      <td>...</td>\n",
       "      <td>...</td>\n",
       "      <td>...</td>\n",
       "    </tr>\n",
       "    <tr>\n",
       "      <th>2489</th>\n",
       "      <td>Military doctors receive COVID-19 aid from China</td>\n",
       "      <td>1</td>\n",
       "      <td>military doctor receive covid 19 aid china</td>\n",
       "    </tr>\n",
       "    <tr>\n",
       "      <th>2490</th>\n",
       "      <td>‘Corona beer virus’ searches up after confusio...</td>\n",
       "      <td>1</td>\n",
       "      <td>corona beer virus search confusion coronavirus</td>\n",
       "    </tr>\n",
       "    <tr>\n",
       "      <th>2491</th>\n",
       "      <td>7 Tips to protect your family from Corona Viru...</td>\n",
       "      <td>0</td>\n",
       "      <td>7 tip protect family corona virus chennai</td>\n",
       "    </tr>\n",
       "    <tr>\n",
       "      <th>2492</th>\n",
       "      <td>The novel coronavirus (2019-nCoV) is spreading...</td>\n",
       "      <td>1</td>\n",
       "      <td>novel coronavirus 2019 ncov spreading quickly</td>\n",
       "    </tr>\n",
       "    <tr>\n",
       "      <th>2493</th>\n",
       "      <td>100 Ugandans quarantined over Corona virus</td>\n",
       "      <td>1</td>\n",
       "      <td>100 ugandan quarantined corona virus</td>\n",
       "    </tr>\n",
       "  </tbody>\n",
       "</table>\n",
       "<p>2494 rows × 3 columns</p>\n",
       "</div>"
      ],
      "text/plain": [
       "                                                  title  true  \\\n",
       "0     Newly-Identified Coronavirus 2019-nCoV: Here’s...     1   \n",
       "1     China travel ban 'vital' in preventing 2019-nC...     1   \n",
       "2     B.C. confirms first case of coronavirus 2019-nCoV     1   \n",
       "3     Kash Doll makes a racist anti-asian joke about...     0   \n",
       "4     DOH now monitoring two other PUIs in Cebu City...     1   \n",
       "...                                                 ...   ...   \n",
       "2489   Military doctors receive COVID-19 aid from China     1   \n",
       "2490  ‘Corona beer virus’ searches up after confusio...     1   \n",
       "2491  7 Tips to protect your family from Corona Viru...     0   \n",
       "2492  The novel coronavirus (2019-nCoV) is spreading...     1   \n",
       "2493         100 Ugandans quarantined over Corona virus     1   \n",
       "\n",
       "                                     preprocessed_title  \n",
       "0      newly identified coronavirus 2019 ncov need know  \n",
       "1     china travel ban vital preventing 2019 ncov ou...  \n",
       "2         b c confirms first case coronavirus 2019 ncov  \n",
       "3     kash doll make racist anti asian joke corona v...  \n",
       "4     doh monitoring two puis cebu city suspected 20...  \n",
       "...                                                 ...  \n",
       "2489         military doctor receive covid 19 aid china  \n",
       "2490     corona beer virus search confusion coronavirus  \n",
       "2491          7 tip protect family corona virus chennai  \n",
       "2492      novel coronavirus 2019 ncov spreading quickly  \n",
       "2493               100 ugandan quarantined corona virus  \n",
       "\n",
       "[2494 rows x 3 columns]"
      ]
     },
     "execution_count": 14,
     "metadata": {},
     "output_type": "execute_result"
    }
   ],
   "source": [
    "train_df['preprocessed_title'] = train_df['title'].apply(lambda review: data_preprocessing(review))\n",
    "train_df"
   ]
  },
  {
   "cell_type": "code",
   "execution_count": 15,
   "id": "f50a9f8e",
   "metadata": {},
   "outputs": [
    {
     "data": {
      "text/html": [
       "<div>\n",
       "<style scoped>\n",
       "    .dataframe tbody tr th:only-of-type {\n",
       "        vertical-align: middle;\n",
       "    }\n",
       "\n",
       "    .dataframe tbody tr th {\n",
       "        vertical-align: top;\n",
       "    }\n",
       "\n",
       "    .dataframe thead th {\n",
       "        text-align: right;\n",
       "    }\n",
       "</style>\n",
       "<table border=\"1\" class=\"dataframe\">\n",
       "  <thead>\n",
       "    <tr style=\"text-align: right;\">\n",
       "      <th></th>\n",
       "      <th>title</th>\n",
       "      <th>true</th>\n",
       "      <th>preprocessed_title</th>\n",
       "    </tr>\n",
       "  </thead>\n",
       "  <tbody>\n",
       "    <tr>\n",
       "      <th>0</th>\n",
       "      <td>Top Guidelines Of corona virus reddit</td>\n",
       "      <td>1</td>\n",
       "      <td>top guideline corona virus reddit</td>\n",
       "    </tr>\n",
       "    <tr>\n",
       "      <th>1</th>\n",
       "      <td>2019 Novel Corona Virus(2019-nCoV)</td>\n",
       "      <td>1</td>\n",
       "      <td>2019 novel corona virus 2019 ncov</td>\n",
       "    </tr>\n",
       "    <tr>\n",
       "      <th>2</th>\n",
       "      <td>AI Helping to Inform on the Corona Virus Outbreak</td>\n",
       "      <td>1</td>\n",
       "      <td>ai helping inform corona virus outbreak</td>\n",
       "    </tr>\n",
       "    <tr>\n",
       "      <th>3</th>\n",
       "      <td>‘Corona won’t affect chickens’, Health News</td>\n",
       "      <td>0</td>\n",
       "      <td>corona affect chicken health news</td>\n",
       "    </tr>\n",
       "    <tr>\n",
       "      <th>4</th>\n",
       "      <td>Dr. Brownstein: Corona Virus is Nothing New – ...</td>\n",
       "      <td>0</td>\n",
       "      <td>dr brownstein corona virus nothing new</td>\n",
       "    </tr>\n",
       "    <tr>\n",
       "      <th>...</th>\n",
       "      <td>...</td>\n",
       "      <td>...</td>\n",
       "      <td>...</td>\n",
       "    </tr>\n",
       "    <tr>\n",
       "      <th>619</th>\n",
       "      <td>TWO SEPARATE REPORTS CONFIRM ‘MOST INTEL AGENC...</td>\n",
       "      <td>0</td>\n",
       "      <td>two separate report confirm intel agency u bel...</td>\n",
       "    </tr>\n",
       "    <tr>\n",
       "      <th>620</th>\n",
       "      <td>We are ready for Corona virus should it arrive</td>\n",
       "      <td>1</td>\n",
       "      <td>ready corona virus arrive</td>\n",
       "    </tr>\n",
       "    <tr>\n",
       "      <th>621</th>\n",
       "      <td>Manila Corona Virus Feb 7</td>\n",
       "      <td>0</td>\n",
       "      <td>manila corona virus feb 7</td>\n",
       "    </tr>\n",
       "    <tr>\n",
       "      <th>622</th>\n",
       "      <td>Only 10% Of Pulses Promised Under COVID-19 Rel...</td>\n",
       "      <td>0</td>\n",
       "      <td>10 pulse promised covid 19 relief package dist...</td>\n",
       "    </tr>\n",
       "    <tr>\n",
       "      <th>623</th>\n",
       "      <td>Detected a person infected with corona virus f...</td>\n",
       "      <td>1</td>\n",
       "      <td>detected person infected corona virus flying b...</td>\n",
       "    </tr>\n",
       "  </tbody>\n",
       "</table>\n",
       "<p>624 rows × 3 columns</p>\n",
       "</div>"
      ],
      "text/plain": [
       "                                                 title  true  \\\n",
       "0                Top Guidelines Of corona virus reddit     1   \n",
       "1                   2019 Novel Corona Virus(2019-nCoV)     1   \n",
       "2    AI Helping to Inform on the Corona Virus Outbreak     1   \n",
       "3          ‘Corona won’t affect chickens’, Health News     0   \n",
       "4    Dr. Brownstein: Corona Virus is Nothing New – ...     0   \n",
       "..                                                 ...   ...   \n",
       "619  TWO SEPARATE REPORTS CONFIRM ‘MOST INTEL AGENC...     0   \n",
       "620    We are ready for Corona virus should it arrive      1   \n",
       "621                          Manila Corona Virus Feb 7     0   \n",
       "622  Only 10% Of Pulses Promised Under COVID-19 Rel...     0   \n",
       "623  Detected a person infected with corona virus f...     1   \n",
       "\n",
       "                                    preprocessed_title  \n",
       "0                    top guideline corona virus reddit  \n",
       "1                    2019 novel corona virus 2019 ncov  \n",
       "2              ai helping inform corona virus outbreak  \n",
       "3                    corona affect chicken health news  \n",
       "4               dr brownstein corona virus nothing new  \n",
       "..                                                 ...  \n",
       "619  two separate report confirm intel agency u bel...  \n",
       "620                          ready corona virus arrive  \n",
       "621                          manila corona virus feb 7  \n",
       "622  10 pulse promised covid 19 relief package dist...  \n",
       "623  detected person infected corona virus flying b...  \n",
       "\n",
       "[624 rows x 3 columns]"
      ]
     },
     "execution_count": 15,
     "metadata": {},
     "output_type": "execute_result"
    }
   ],
   "source": [
    "val_df['preprocessed_title'] = val_df['title'].apply(lambda review: data_preprocessing(review))\n",
    "val_df"
   ]
  },
  {
   "cell_type": "code",
   "execution_count": 16,
   "id": "bdbb5beb",
   "metadata": {},
   "outputs": [
    {
     "name": "stdout",
     "output_type": "stream",
     "text": [
      "ISOT length: 8980\n",
      "LIAR length: 1589\n",
      "FakeNewsDataset length: 4048\n",
      "FakeNewsNet length: 4639\n",
      "Covid-19 length: 624\n"
     ]
    }
   ],
   "source": [
    "val_df_liar['preprocessed_title'] = val_df_liar['statement'].apply(lambda review: data_preprocessing(review))\n",
    "val_df_fnd['preprocessed_title'] = val_df_fnd['title'].apply(lambda review: data_preprocessing(review))\n",
    "val_df_fnn['preprocessed_title'] = val_df_fnn['title'].apply(lambda review: data_preprocessing(review))\n",
    "val_df_isot['preprocessed_title'] = val_df_isot['title'].apply(lambda review: data_preprocessing(review))\n",
    "\n",
    "print('ISOT length:', len(val_df_isot))\n",
    "print('LIAR length:', len(val_df_liar))\n",
    "print('FakeNewsDataset length:', len(val_df_fnd))\n",
    "print('FakeNewsNet length:', len(val_df_fnn))\n",
    "print('Covid-19 length:', len(val_df))"
   ]
  },
  {
   "cell_type": "code",
   "execution_count": 17,
   "id": "6b4a81a0",
   "metadata": {},
   "outputs": [],
   "source": [
    "X_val_liar = val_df_liar['preprocessed_title']\n",
    "y_val_liar = val_df_liar['label']\n",
    "\n",
    "X_val_fnd = val_df_fnd['preprocessed_title']\n",
    "y_val_fnd = val_df_fnd['true']\n",
    "\n",
    "X_val_fnn = val_df_fnn['preprocessed_title']\n",
    "y_val_fnn = val_df_fnn['true']\n",
    "\n",
    "X_val_isot = val_df_isot['preprocessed_title']\n",
    "y_val_isot = val_df_isot['true']"
   ]
  },
  {
   "cell_type": "code",
   "execution_count": 18,
   "id": "3fb2ab04",
   "metadata": {},
   "outputs": [
    {
     "name": "stdout",
     "output_type": "stream",
     "text": [
      "Train data: (2494,) (2494,)\n",
      "Test data: (624,) (624,)\n"
     ]
    }
   ],
   "source": [
    "X_train = train_df['preprocessed_title']\n",
    "X_val = val_df['preprocessed_title']\n",
    "\n",
    "y_train = train_df['true']\n",
    "y_val = val_df['true']\n",
    "\n",
    "print('Train data:', X_train.shape, y_train.shape)\n",
    "print('Test data:', X_val.shape, y_val.shape)"
   ]
  },
  {
   "cell_type": "code",
   "execution_count": 19,
   "id": "8e55e166",
   "metadata": {},
   "outputs": [
    {
     "name": "stdout",
     "output_type": "stream",
     "text": [
      "X_train_new_tfidf shape: (2494, 265)\n",
      "X_test_news_tfidf shape: (624, 265)\n"
     ]
    }
   ],
   "source": [
    "# vectorizing text data: TFIDF\n",
    "from sklearn.feature_extraction.text import TfidfVectorizer\n",
    "\n",
    "vectorizer = TfidfVectorizer(min_df=10)\n",
    "\n",
    "X_train_news_tfidf = vectorizer.fit_transform(X_train)\n",
    "X_val_news_tfidf = vectorizer.transform(X_val)\n",
    "\n",
    "print('X_train_new_tfidf shape:', X_train_news_tfidf.shape)\n",
    "print('X_test_news_tfidf shape:', X_val_news_tfidf.shape)"
   ]
  },
  {
   "cell_type": "code",
   "execution_count": 20,
   "id": "88e4c7d7",
   "metadata": {},
   "outputs": [],
   "source": [
    "X_val_liar_tfidf = vectorizer.transform(X_val_liar)\n",
    "X_val_fnd_tfidf = vectorizer.transform(X_val_fnd)\n",
    "X_val_fnn_tfidf = vectorizer.transform(X_val_fnn)\n",
    "X_val_isot_tfidf = vectorizer.transform(X_val_isot)"
   ]
  },
  {
   "cell_type": "code",
   "execution_count": 21,
   "id": "8b49e726",
   "metadata": {},
   "outputs": [
    {
     "name": "stdout",
     "output_type": "stream",
     "text": [
      "F1 scores: \n",
      "ISOT: 0.5862996688741723\n",
      "LIAR: 0.6602652034750801\n",
      "FakeNewsDataset: 0.7345924453280318\n",
      "FakeNewsNet: 0.81272271347499\n",
      "Covid-19: 0.7951002227171493\n"
     ]
    }
   ],
   "source": [
    "# Naive Bayes\n",
    "\n",
    "from sklearn.naive_bayes import MultinomialNB\n",
    "from sklearn.metrics import accuracy_score\n",
    "from sklearn.metrics import f1_score\n",
    "\n",
    "clf = MultinomialNB(alpha=1)\n",
    "clf.fit(X_train_news_tfidf, y_train)\n",
    "\n",
    "y_pred = clf.predict(X_val_news_tfidf)\n",
    "y_pred_liar = clf.predict(X_val_liar_tfidf)\n",
    "y_pred_fnd = clf.predict(X_val_fnd_tfidf)\n",
    "y_pred_fnn = clf.predict(X_val_fnn_tfidf)\n",
    "y_pred_isot = clf.predict(X_val_isot_tfidf)\n",
    "\n",
    "#print('Test Accuracy:', accuracy_score(y_val, y_pred))\n",
    "print('F1 scores: ')\n",
    "print('ISOT:', f1_score(y_val_isot, y_pred_isot))\n",
    "print('LIAR:', f1_score(y_val_liar, y_pred_liar))\n",
    "print('FakeNewsDataset:', f1_score(y_val_fnd, y_pred_fnd))\n",
    "print('FakeNewsNet:', f1_score(y_val_fnn, y_pred_fnn))\n",
    "print('Covid-19:', f1_score(y_val, y_pred))"
   ]
  },
  {
   "cell_type": "code",
   "execution_count": 22,
   "id": "90293f50",
   "metadata": {},
   "outputs": [
    {
     "data": {
      "image/png": "[encoded data removed]",
      "text/plain": [
       "<Figure size 500x300 with 2 Axes>"
      ]
     },
     "metadata": {},
     "output_type": "display_data"
    }
   ],
   "source": [
    "from sklearn.metrics import confusion_matrix\n",
    "import seaborn as sns\n",
    "\n",
    "cm = confusion_matrix(y_val, y_pred)\n",
    "plt.figure(figsize=(5, 3))\n",
    "sns.heatmap(cm, annot=True, fmt='d')\n",
    "plt.title('Test Confusion Matrix')\n",
    "plt.show()"
   ]
  },
  {
   "cell_type": "code",
   "execution_count": 23,
   "id": "11296eba",
   "metadata": {},
   "outputs": [
    {
     "name": "stdout",
     "output_type": "stream",
     "text": [
      "F1 scores: \n",
      "ISOT: 0.0354180676978256\n",
      "LIAR: 0.03329633740288568\n",
      "FakeNewsDataset: 0.013164556962025316\n",
      "FakeNewsNet: 0.016082711085583\n",
      "Covid-19: 0.8004895960832313\n"
     ]
    }
   ],
   "source": [
    "from sklearn.ensemble import RandomForestClassifier\n",
    "\n",
    "clf = RandomForestClassifier()\n",
    "clf.fit(X_train_news_tfidf, y_train)\n",
    "\n",
    "y_pred = clf.predict(X_val_news_tfidf)\n",
    "y_pred_liar = clf.predict(X_val_liar_tfidf)\n",
    "y_pred_fnd = clf.predict(X_val_fnd_tfidf)\n",
    "y_pred_fnn = clf.predict(X_val_fnn_tfidf)\n",
    "y_pred_isot = clf.predict(X_val_isot_tfidf)\n",
    "\n",
    "#print('Test Accuracy:', accuracy_score(y_val, y_pred))\n",
    "print('F1 scores: ')\n",
    "print('ISOT:', f1_score(y_val_isot, y_pred_isot))\n",
    "print('LIAR:', f1_score(y_val_liar, y_pred_liar))\n",
    "print('FakeNewsDataset:', f1_score(y_val_fnd, y_pred_fnd))\n",
    "print('FakeNewsNet:', f1_score(y_val_fnn, y_pred_fnn))\n",
    "print('Covid-19:', f1_score(y_val, y_pred))"
   ]
  },
  {
   "cell_type": "code",
   "execution_count": 24,
   "id": "4789960e",
   "metadata": {},
   "outputs": [
    {
     "data": {
      "image/png": "[encoded data removed]",
      "text/plain": [
       "<Figure size 500x300 with 2 Axes>"
      ]
     },
     "metadata": {},
     "output_type": "display_data"
    }
   ],
   "source": [
    "cm = confusion_matrix(y_val, y_pred)\n",
    "plt.figure(figsize=(5, 3))\n",
    "sns.heatmap(cm, annot=True, fmt='d')\n",
    "plt.title('Test Confusion Matrix')\n",
    "plt.show()"
   ]
  },
  {
   "cell_type": "code",
   "execution_count": 25,
   "id": "5859353c",
   "metadata": {},
   "outputs": [
    {
     "name": "stdout",
     "output_type": "stream",
     "text": [
      "F1 scores: \n",
      "ISOT: 0.5990443957794146\n",
      "LIAR: 0.6800174140182847\n",
      "FakeNewsDataset: 0.6034786007426226\n",
      "FakeNewsNet: 0.84050893201388\n",
      "Covid-19: 0.7947019867549668\n"
     ]
    }
   ],
   "source": [
    "from sklearn.ensemble import AdaBoostClassifier\n",
    "\n",
    "clf = AdaBoostClassifier()\n",
    "clf.fit(X_train_news_tfidf, y_train)\n",
    "\n",
    "y_pred = clf.predict(X_val_news_tfidf)\n",
    "y_pred_liar = clf.predict(X_val_liar_tfidf)\n",
    "y_pred_fnd = clf.predict(X_val_fnd_tfidf)\n",
    "y_pred_fnn = clf.predict(X_val_fnn_tfidf)\n",
    "y_pred_isot = clf.predict(X_val_isot_tfidf)\n",
    "\n",
    "#print('Test Accuracy:', accuracy_score(y_val, y_pred))\n",
    "print('F1 scores: ')\n",
    "print('ISOT:', f1_score(y_val_isot, y_pred_isot))\n",
    "print('LIAR:', f1_score(y_val_liar, y_pred_liar))\n",
    "print('FakeNewsDataset:', f1_score(y_val_fnd, y_pred_fnd))\n",
    "print('FakeNewsNet:', f1_score(y_val_fnn, y_pred_fnn))\n",
    "print('Covid-19:', f1_score(y_val, y_pred))"
   ]
  },
  {
   "cell_type": "code",
   "execution_count": 26,
   "id": "23e33306",
   "metadata": {},
   "outputs": [
    {
     "data": {
      "image/png": "[encoded data removed]",
      "text/plain": [
       "<Figure size 500x300 with 2 Axes>"
      ]
     },
     "metadata": {},
     "output_type": "display_data"
    }
   ],
   "source": [
    "cm = confusion_matrix(y_val, y_pred)\n",
    "plt.figure(figsize=(5, 3))\n",
    "sns.heatmap(cm, annot=True, fmt='d')\n",
    "plt.title('Test Confusion Matrix')\n",
    "plt.show()"
   ]
  },
  {
   "cell_type": "code",
   "execution_count": 27,
   "id": "18821240",
   "metadata": {},
   "outputs": [
    {
     "name": "stdout",
     "output_type": "stream",
     "text": [
      "F1 scores: \n",
      "ISOT: 0.5430663721957456\n",
      "LIAR: 0.5358577165806082\n",
      "FakeNewsDataset: 0.6843817787418656\n",
      "FakeNewsNet: 0.7614125753660638\n",
      "Covid-19: 0.7573812580231065\n"
     ]
    }
   ],
   "source": [
    "from sklearn.neighbors import KNeighborsClassifier\n",
    "\n",
    "clf = KNeighborsClassifier()\n",
    "clf.fit(X_train_news_tfidf, y_train)\n",
    "\n",
    "y_pred = clf.predict(X_val_news_tfidf)\n",
    "y_pred_liar = clf.predict(X_val_liar_tfidf)\n",
    "y_pred_fnd = clf.predict(X_val_fnd_tfidf)\n",
    "y_pred_fnn = clf.predict(X_val_fnn_tfidf)\n",
    "y_pred_isot = clf.predict(X_val_isot_tfidf)\n",
    "\n",
    "#print('Test Accuracy:', accuracy_score(y_val, y_pred))\n",
    "print('F1 scores: ')\n",
    "print('ISOT:', f1_score(y_val_isot, y_pred_isot))\n",
    "print('LIAR:', f1_score(y_val_liar, y_pred_liar))\n",
    "print('FakeNewsDataset:', f1_score(y_val_fnd, y_pred_fnd))\n",
    "print('FakeNewsNet:', f1_score(y_val_fnn, y_pred_fnn))\n",
    "print('Covid-19:', f1_score(y_val, y_pred))"
   ]
  },
  {
   "cell_type": "code",
   "execution_count": 31,
   "id": "73c6d90c",
   "metadata": {},
   "outputs": [
    {
     "name": "stdout",
     "output_type": "stream",
     "text": [
      "F1 scores: \n",
      "ISOT: 0.048128342245989296\n",
      "LIAR: 0.07758620689655171\n",
      "FakeNewsDataset: 0.028084252758274825\n",
      "FakeNewsNet: 0.007486323063633746\n",
      "Covid-19: 0.7922235722964763\n"
     ]
    }
   ],
   "source": [
    "import xgboost as xgb\n",
    "\n",
    "xgb_model = xgb.XGBClassifier(objective='binary:logistic', random_state=42)\n",
    "xgb_model.fit(X_train_news_tfidf, y_train)\n",
    "\n",
    "y_pred = xgb_model.predict(X_val_news_tfidf)\n",
    "y_pred_liar = xgb_model.predict(X_val_liar_tfidf)\n",
    "y_pred_fnd = xgb_model.predict(X_val_fnd_tfidf)\n",
    "y_pred_fnn = xgb_model.predict(X_val_fnn_tfidf)\n",
    "y_pred_isot = xgb_model.predict(X_val_isot_tfidf)\n",
    "\n",
    "#print('Test Accuracy:', accuracy_score(y_val, y_pred))\n",
    "print('F1 scores: ')\n",
    "print('ISOT:', f1_score(y_val_isot, y_pred_isot))\n",
    "print('LIAR:', f1_score(y_val_liar, y_pred_liar))\n",
    "print('FakeNewsDataset:', f1_score(y_val_fnd, y_pred_fnd))\n",
    "print('FakeNewsNet:', f1_score(y_val_fnn, y_pred_fnn))\n",
    "print('Covid-19:', f1_score(y_val, y_pred))"
   ]
  },
  {
   "cell_type": "code",
   "execution_count": 32,
   "id": "9d9598f1",
   "metadata": {},
   "outputs": [
    {
     "name": "stdout",
     "output_type": "stream",
     "text": [
      "F1 scores: \n",
      "ISOT: 0.4979891175774781\n",
      "LIAR: 0.6473709599614086\n",
      "FakeNewsDataset: 0.48906337633202474\n",
      "FakeNewsNet: 0.5198958720714021\n",
      "Covid-19: 0.8023668639053255\n"
     ]
    }
   ],
   "source": [
    "from sklearn import svm\n",
    "\n",
    "clf = svm.SVC()\n",
    "clf.fit(X_train_news_tfidf, y_train)\n",
    "\n",
    "y_pred = clf.predict(X_val_news_tfidf)\n",
    "y_pred_liar = clf.predict(X_val_liar_tfidf)\n",
    "y_pred_fnd = clf.predict(X_val_fnd_tfidf)\n",
    "y_pred_fnn = clf.predict(X_val_fnn_tfidf)\n",
    "y_pred_isot = clf.predict(X_val_isot_tfidf)\n",
    "\n",
    "#print('Test Accuracy:', accuracy_score(y_val, y_pred))\n",
    "print('F1 scores: ')\n",
    "print('ISOT:', f1_score(y_val_isot, y_pred_isot))\n",
    "print('LIAR:', f1_score(y_val_liar, y_pred_liar))\n",
    "print('FakeNewsDataset:', f1_score(y_val_fnd, y_pred_fnd))\n",
    "print('FakeNewsNet:', f1_score(y_val_fnn, y_pred_fnn))\n",
    "print('Covid-19:', f1_score(y_val, y_pred))"
   ]
  },
  {
   "cell_type": "code",
   "execution_count": null,
   "id": "78d8a6bb",
   "metadata": {},
   "outputs": [],
   "source": []
  }
 ],
 "metadata": {
  "kernelspec": {
   "display_name": "Python 3 (ipykernel)",
   "language": "python",
   "name": "python3"
  },
  "language_info": {
   "codemirror_mode": {
    "name": "ipython",
    "version": 3
   },
   "file_extension": ".py",
   "mimetype": "text/x-python",
   "name": "python",
   "nbconvert_exporter": "python",
   "pygments_lexer": "ipython3",
   "version": "3.10.9"
  }
 },
 "nbformat": 4,
 "nbformat_minor": 5
}
