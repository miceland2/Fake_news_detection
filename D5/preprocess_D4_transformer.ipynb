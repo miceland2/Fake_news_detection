{
 "cells": [
  {
   "cell_type": "code",
   "execution_count": 7,
   "id": "e42dd5b5",
   "metadata": {},
   "outputs": [],
   "source": [
    "import pandas as pd\n",
    "import numpy as np"
   ]
  },
  {
   "cell_type": "code",
   "execution_count": 8,
   "id": "a4a2e5d1",
   "metadata": {},
   "outputs": [],
   "source": [
    "gossipcop_fake_df = pd.read_csv('dataset/gossipcop_fake.csv')\n",
    "gossipcop_real_df = pd.read_csv('dataset/gossipcop_real.csv')\n",
    "\n",
    "politifact_fake_df = pd.read_csv('dataset/politifact_fake.csv')\n",
    "politifact_real_df = pd.read_csv('dataset/politifact_real.csv')"
   ]
  },
  {
   "cell_type": "code",
   "execution_count": 14,
   "id": "6171a619",
   "metadata": {},
   "outputs": [],
   "source": [
    "fake_df = pd.concat([gossipcop_fake_df, politifact_fake_df])\n",
    "true_df = pd.concat([gossipcop_real_df, politifact_real_df])\n",
    "\n",
    "fake_df.index = [x for x in range(len(gossipcop_fake_df) + len(politifact_fake_df))]\n",
    "true_df.index = [x for x in range(len(gossipcop_real_df) + len(politifact_real_df))]"
   ]
  },
  {
   "cell_type": "code",
   "execution_count": 42,
   "id": "d27dd588",
   "metadata": {},
   "outputs": [
    {
     "data": {
      "text/html": [
       "<div>\n",
       "<style scoped>\n",
       "    .dataframe tbody tr th:only-of-type {\n",
       "        vertical-align: middle;\n",
       "    }\n",
       "\n",
       "    .dataframe tbody tr th {\n",
       "        vertical-align: top;\n",
       "    }\n",
       "\n",
       "    .dataframe thead th {\n",
       "        text-align: right;\n",
       "    }\n",
       "</style>\n",
       "<table border=\"1\" class=\"dataframe\">\n",
       "  <thead>\n",
       "    <tr style=\"text-align: right;\">\n",
       "      <th></th>\n",
       "      <th>id</th>\n",
       "      <th>news_url</th>\n",
       "      <th>title</th>\n",
       "      <th>tweet_ids</th>\n",
       "      <th>true</th>\n",
       "    </tr>\n",
       "  </thead>\n",
       "  <tbody>\n",
       "    <tr>\n",
       "      <th>0</th>\n",
       "      <td>gossipcop-882573</td>\n",
       "      <td>https://www.brides.com/story/teen-mom-jenelle-...</td>\n",
       "      <td>Teen Mom Star Jenelle Evans' Wedding Dress Is ...</td>\n",
       "      <td>912371411146149888\\t912371528343408641\\t912372...</td>\n",
       "      <td>1</td>\n",
       "    </tr>\n",
       "    <tr>\n",
       "      <th>1</th>\n",
       "      <td>gossipcop-875924</td>\n",
       "      <td>https://www.dailymail.co.uk/tvshowbiz/article-...</td>\n",
       "      <td>Kylie Jenner refusing to discuss Tyga on Life ...</td>\n",
       "      <td>901989917546426369\\t901989992074969089\\t901990...</td>\n",
       "      <td>1</td>\n",
       "    </tr>\n",
       "    <tr>\n",
       "      <th>2</th>\n",
       "      <td>gossipcop-894416</td>\n",
       "      <td>https://en.wikipedia.org/wiki/Quinn_Perkins</td>\n",
       "      <td>Quinn Perkins</td>\n",
       "      <td>931263637246881792\\t931265332022579201\\t931265...</td>\n",
       "      <td>1</td>\n",
       "    </tr>\n",
       "    <tr>\n",
       "      <th>3</th>\n",
       "      <td>gossipcop-857248</td>\n",
       "      <td>https://www.refinery29.com/en-us/2018/03/19192...</td>\n",
       "      <td>I Tried Kim Kardashian's Butt Workout &amp; Am For...</td>\n",
       "      <td>868114761723936769\\t868122567910936576\\t868128...</td>\n",
       "      <td>1</td>\n",
       "    </tr>\n",
       "    <tr>\n",
       "      <th>4</th>\n",
       "      <td>gossipcop-884684</td>\n",
       "      <td>https://www.cnn.com/2017/10/04/entertainment/c...</td>\n",
       "      <td>Celine Dion donates concert proceeds to Vegas ...</td>\n",
       "      <td>915528047004209152\\t915529285171122176\\t915530...</td>\n",
       "      <td>1</td>\n",
       "    </tr>\n",
       "    <tr>\n",
       "      <th>...</th>\n",
       "      <td>...</td>\n",
       "      <td>...</td>\n",
       "      <td>...</td>\n",
       "      <td>...</td>\n",
       "      <td>...</td>\n",
       "    </tr>\n",
       "    <tr>\n",
       "      <th>5750</th>\n",
       "      <td>politifact14944</td>\n",
       "      <td>http://thehill.com/homenews/senate/369928-who-...</td>\n",
       "      <td>Who is affected by the government shutdown?</td>\n",
       "      <td>954602090462146560\\t954602093171609600\\t954650...</td>\n",
       "      <td>0</td>\n",
       "    </tr>\n",
       "    <tr>\n",
       "      <th>5751</th>\n",
       "      <td>politifact14071</td>\n",
       "      <td>https://web.archive.org/web/20170322070001/htt...</td>\n",
       "      <td>Lindsey Graham Threatens To Convert To Democra...</td>\n",
       "      <td>740351669834244096\\t740391312277573632\\t740474...</td>\n",
       "      <td>0</td>\n",
       "    </tr>\n",
       "    <tr>\n",
       "      <th>5752</th>\n",
       "      <td>politifact13577</td>\n",
       "      <td>http://archive.is/DQqCx</td>\n",
       "      <td>ELECTORAL COLLEGE ELECTOR COMMITS SUICIDE TO A...</td>\n",
       "      <td>810939651900907520\\t814738996706164737\\t814917...</td>\n",
       "      <td>0</td>\n",
       "    </tr>\n",
       "    <tr>\n",
       "      <th>5753</th>\n",
       "      <td>politifact13560</td>\n",
       "      <td>politicono.com/palin-calls-boycott-mall-americ...</td>\n",
       "      <td>Sarah Palin Calls To Boycott Mall Of America B...</td>\n",
       "      <td>805216591424212993\\t805222830023540736\\t805223...</td>\n",
       "      <td>0</td>\n",
       "    </tr>\n",
       "    <tr>\n",
       "      <th>5754</th>\n",
       "      <td>politifact15030</td>\n",
       "      <td>https://theglobalheadlines.net/breaking-intel-...</td>\n",
       "      <td>Account Suspended</td>\n",
       "      <td>934217740692443136\\t934217839816445952\\t934217...</td>\n",
       "      <td>0</td>\n",
       "    </tr>\n",
       "  </tbody>\n",
       "</table>\n",
       "<p>23196 rows × 5 columns</p>\n",
       "</div>"
      ],
      "text/plain": [
       "                    id                                           news_url  \\\n",
       "0     gossipcop-882573  https://www.brides.com/story/teen-mom-jenelle-...   \n",
       "1     gossipcop-875924  https://www.dailymail.co.uk/tvshowbiz/article-...   \n",
       "2     gossipcop-894416        https://en.wikipedia.org/wiki/Quinn_Perkins   \n",
       "3     gossipcop-857248  https://www.refinery29.com/en-us/2018/03/19192...   \n",
       "4     gossipcop-884684  https://www.cnn.com/2017/10/04/entertainment/c...   \n",
       "...                ...                                                ...   \n",
       "5750   politifact14944  http://thehill.com/homenews/senate/369928-who-...   \n",
       "5751   politifact14071  https://web.archive.org/web/20170322070001/htt...   \n",
       "5752   politifact13577                            http://archive.is/DQqCx   \n",
       "5753   politifact13560  politicono.com/palin-calls-boycott-mall-americ...   \n",
       "5754   politifact15030  https://theglobalheadlines.net/breaking-intel-...   \n",
       "\n",
       "                                                  title  \\\n",
       "0     Teen Mom Star Jenelle Evans' Wedding Dress Is ...   \n",
       "1     Kylie Jenner refusing to discuss Tyga on Life ...   \n",
       "2                                         Quinn Perkins   \n",
       "3     I Tried Kim Kardashian's Butt Workout & Am For...   \n",
       "4     Celine Dion donates concert proceeds to Vegas ...   \n",
       "...                                                 ...   \n",
       "5750        Who is affected by the government shutdown?   \n",
       "5751  Lindsey Graham Threatens To Convert To Democra...   \n",
       "5752  ELECTORAL COLLEGE ELECTOR COMMITS SUICIDE TO A...   \n",
       "5753  Sarah Palin Calls To Boycott Mall Of America B...   \n",
       "5754                                  Account Suspended   \n",
       "\n",
       "                                              tweet_ids  true  \n",
       "0     912371411146149888\\t912371528343408641\\t912372...     1  \n",
       "1     901989917546426369\\t901989992074969089\\t901990...     1  \n",
       "2     931263637246881792\\t931265332022579201\\t931265...     1  \n",
       "3     868114761723936769\\t868122567910936576\\t868128...     1  \n",
       "4     915528047004209152\\t915529285171122176\\t915530...     1  \n",
       "...                                                 ...   ...  \n",
       "5750  954602090462146560\\t954602093171609600\\t954650...     0  \n",
       "5751  740351669834244096\\t740391312277573632\\t740474...     0  \n",
       "5752  810939651900907520\\t814738996706164737\\t814917...     0  \n",
       "5753  805216591424212993\\t805222830023540736\\t805223...     0  \n",
       "5754  934217740692443136\\t934217839816445952\\t934217...     0  \n",
       "\n",
       "[23196 rows x 5 columns]"
      ]
     },
     "metadata": {},
     "output_type": "display_data"
    }
   ],
   "source": [
    "# add labels to both df\n",
    "true_df['true'] = 1\n",
    "fake_df['true'] = 0\n",
    "\n",
    "# concat\n",
    "df = pd.concat([true_df, fake_df])\n",
    "display(df)"
   ]
  },
  {
   "cell_type": "code",
   "execution_count": 43,
   "id": "4ac85eb8",
   "metadata": {},
   "outputs": [
    {
     "name": "stdout",
     "output_type": "stream",
     "text": [
      "Number of titles: 23196\n",
      "Max length of the titles: 53\n",
      "Mean length of the titles: 11.161191584755992\n"
     ]
    }
   ],
   "source": [
    "# inspect length of news\n",
    "titles = [text for text in df.title]\n",
    "\n",
    "max_len = 0\n",
    "titles_len = []\n",
    "for title in titles:\n",
    "    titles_len.append(len(title.split()))\n",
    "    max_len = max(len(title.split()), max_len)\n",
    "    \n",
    "print('Number of titles:', len(titles))\n",
    "print('Max length of the titles:', max_len)\n",
    "print('Mean length of the titles:', np.mean(titles_len))"
   ]
  },
  {
   "cell_type": "code",
   "execution_count": 44,
   "id": "e1bd80b1",
   "metadata": {},
   "outputs": [
    {
     "data": {
      "image/png": "[encoded data removed]",
      "text/plain": [
       "<Figure size 2000x500 with 1 Axes>"
      ]
     },
     "metadata": {},
     "output_type": "display_data"
    }
   ],
   "source": [
    "plt.figure(figsize=(20,5))\n",
    "g = sns.countplot(x=titles_len)\n",
    "g.set_xticklabels(g.get_xticklabels(), rotation=50)\n",
    "plt.show()"
   ]
  },
  {
   "cell_type": "code",
   "execution_count": 45,
   "id": "f1387b00",
   "metadata": {},
   "outputs": [
    {
     "data": {
      "text/html": [
       "<div>\n",
       "<style scoped>\n",
       "    .dataframe tbody tr th:only-of-type {\n",
       "        vertical-align: middle;\n",
       "    }\n",
       "\n",
       "    .dataframe tbody tr th {\n",
       "        vertical-align: top;\n",
       "    }\n",
       "\n",
       "    .dataframe thead th {\n",
       "        text-align: right;\n",
       "    }\n",
       "</style>\n",
       "<table border=\"1\" class=\"dataframe\">\n",
       "  <thead>\n",
       "    <tr style=\"text-align: right;\">\n",
       "      <th></th>\n",
       "      <th>title</th>\n",
       "      <th>true</th>\n",
       "    </tr>\n",
       "  </thead>\n",
       "  <tbody>\n",
       "    <tr>\n",
       "      <th>0</th>\n",
       "      <td>7 Easy Hacks For Applying False Eyelashes Like...</td>\n",
       "      <td>1</td>\n",
       "    </tr>\n",
       "    <tr>\n",
       "      <th>1</th>\n",
       "      <td>Saturday Savings: Gigi Hadid Masters Athleisur...</td>\n",
       "      <td>1</td>\n",
       "    </tr>\n",
       "    <tr>\n",
       "      <th>2</th>\n",
       "      <td>Sen. Gregg: President Obama's Budget Proposal ...</td>\n",
       "      <td>1</td>\n",
       "    </tr>\n",
       "    <tr>\n",
       "      <th>3</th>\n",
       "      <td>George Takei Accused of Sexually Assaulting Fo...</td>\n",
       "      <td>1</td>\n",
       "    </tr>\n",
       "    <tr>\n",
       "      <th>4</th>\n",
       "      <td>Blake Shelton BURNS Luke Bryan for Offering to...</td>\n",
       "      <td>0</td>\n",
       "    </tr>\n",
       "    <tr>\n",
       "      <th>...</th>\n",
       "      <td>...</td>\n",
       "      <td>...</td>\n",
       "    </tr>\n",
       "    <tr>\n",
       "      <th>23191</th>\n",
       "      <td>This Photo Of Kanye West Kissing Saint Chicago...</td>\n",
       "      <td>1</td>\n",
       "    </tr>\n",
       "    <tr>\n",
       "      <th>23192</th>\n",
       "      <td>Jennifer Aniston's shock news: Pregnant and in...</td>\n",
       "      <td>0</td>\n",
       "    </tr>\n",
       "    <tr>\n",
       "      <th>23193</th>\n",
       "      <td>Pregnant Miranda Kerr has reportedly already s...</td>\n",
       "      <td>0</td>\n",
       "    </tr>\n",
       "    <tr>\n",
       "      <th>23194</th>\n",
       "      <td>Ariana Grande carried like a baby and 6 other ...</td>\n",
       "      <td>0</td>\n",
       "    </tr>\n",
       "    <tr>\n",
       "      <th>23195</th>\n",
       "      <td>‘Drop the Mic': James Corden Reveals Dream Rap...</td>\n",
       "      <td>1</td>\n",
       "    </tr>\n",
       "  </tbody>\n",
       "</table>\n",
       "<p>23196 rows × 2 columns</p>\n",
       "</div>"
      ],
      "text/plain": [
       "                                                   title  true\n",
       "0      7 Easy Hacks For Applying False Eyelashes Like...     1\n",
       "1      Saturday Savings: Gigi Hadid Masters Athleisur...     1\n",
       "2      Sen. Gregg: President Obama's Budget Proposal ...     1\n",
       "3      George Takei Accused of Sexually Assaulting Fo...     1\n",
       "4      Blake Shelton BURNS Luke Bryan for Offering to...     0\n",
       "...                                                  ...   ...\n",
       "23191  This Photo Of Kanye West Kissing Saint Chicago...     1\n",
       "23192  Jennifer Aniston's shock news: Pregnant and in...     0\n",
       "23193  Pregnant Miranda Kerr has reportedly already s...     0\n",
       "23194  Ariana Grande carried like a baby and 6 other ...     0\n",
       "23195  ‘Drop the Mic': James Corden Reveals Dream Rap...     1\n",
       "\n",
       "[23196 rows x 2 columns]"
      ]
     },
     "metadata": {},
     "output_type": "display_data"
    }
   ],
   "source": [
    "# purify and shuffle the DataFrame\n",
    "from sklearn.utils import shuffle\n",
    "\n",
    "# purify\n",
    "df = df.iloc[:, [2,-1]]\n",
    "\n",
    "# shuffle\n",
    "df = shuffle(df).reset_index(drop=True)\n",
    "\n",
    "display(df)"
   ]
  },
  {
   "cell_type": "code",
   "execution_count": 46,
   "id": "eb920a8e",
   "metadata": {},
   "outputs": [
    {
     "name": "stdout",
     "output_type": "stream",
     "text": [
      "trainset size: (18557, 2)\n",
      "valset size: (4639, 2)\n"
     ]
    }
   ],
   "source": [
    "train_df = df.sample(frac=0.8)\n",
    "val_df = df.drop(train_df.index)\n",
    "\n",
    "# reset index\n",
    "train_df = train_df.reset_index(drop=True)\n",
    "val_df = val_df.reset_index(drop=True)\n",
    "\n",
    "print('trainset size:', train_df.shape)\n",
    "print('valset size:', val_df.shape)"
   ]
  },
  {
   "cell_type": "code",
   "execution_count": 51,
   "id": "7629ced8",
   "metadata": {},
   "outputs": [
    {
     "data": {
      "text/plain": [
       "0"
      ]
     },
     "execution_count": 51,
     "metadata": {},
     "output_type": "execute_result"
    }
   ],
   "source": [
    "# check for null titles\n",
    "train_df['title'].isnull().sum()\n",
    "val_df['title'].isnull().sum()"
   ]
  },
  {
   "cell_type": "code",
   "execution_count": 52,
   "id": "9effd542",
   "metadata": {},
   "outputs": [],
   "source": [
    "# DataFrame to csv\n",
    "train_df.to_csv('train.tsv', sep='\\t', index=False)\n",
    "val_df.to_csv('val.tsv', sep='\\t', index=False)"
   ]
  },
  {
   "cell_type": "code",
   "execution_count": null,
   "id": "55d44635",
   "metadata": {},
   "outputs": [],
   "source": []
  }
 ],
 "metadata": {
  "kernelspec": {
   "display_name": "Python 3 (ipykernel)",
   "language": "python",
   "name": "python3"
  },
  "language_info": {
   "codemirror_mode": {
    "name": "ipython",
    "version": 3
   },
   "file_extension": ".py",
   "mimetype": "text/x-python",
   "name": "python",
   "nbconvert_exporter": "python",
   "pygments_lexer": "ipython3",
   "version": "3.9.13"
  }
 },
 "nbformat": 4,
 "nbformat_minor": 5
}
