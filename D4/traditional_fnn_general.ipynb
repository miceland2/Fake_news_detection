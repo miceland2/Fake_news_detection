{
 "cells": [
  {
   "cell_type": "code",
   "execution_count": 1,
   "id": "6ec247c0",
   "metadata": {},
   "outputs": [],
   "source": [
    "import pandas as pd\n",
    "\n",
    "train_df = pd.read_csv('train.tsv', sep='\\t')\n",
    "val_df = pd.read_csv('val.tsv', sep='\\t')\n",
    "\n",
    "val_df_liar = pd.read_csv('../D2/val.tsv', sep='\\t')\n",
    "val_df_fnd = pd.read_csv('../D3/val.tsv', sep='\\t')\n",
    "val_df_isot = pd.read_csv('../D1/val.tsv', sep='\\t')\n",
    "val_df_covid = pd.read_csv('../D5/val.tsv', sep='\\t')"
   ]
  },
  {
   "cell_type": "code",
   "execution_count": 2,
   "id": "f4e7bde4",
   "metadata": {},
   "outputs": [
    {
     "data": {
      "text/plain": [
       "0"
      ]
     },
     "execution_count": 2,
     "metadata": {},
     "output_type": "execute_result"
    }
   ],
   "source": [
    "# no null values in dataset\n",
    "train_df['title'].isnull().sum()"
   ]
  },
  {
   "cell_type": "code",
   "execution_count": 3,
   "id": "22deca4a",
   "metadata": {},
   "outputs": [
    {
     "data": {
      "text/plain": [
       "0"
      ]
     },
     "execution_count": 3,
     "metadata": {},
     "output_type": "execute_result"
    }
   ],
   "source": [
    "val_df['title'].isnull().sum()"
   ]
  },
  {
   "cell_type": "code",
   "execution_count": 4,
   "id": "a3082add",
   "metadata": {},
   "outputs": [
    {
     "name": "stdout",
     "output_type": "stream",
     "text": [
      "Train real news: 13994\n",
      "Train fake news: 4563\n",
      "Val real news: 3447\n",
      "Val fake news: 1192\n"
     ]
    }
   ],
   "source": [
    "print('Train real news:', train_df[train_df['true']==1].shape[0])\n",
    "print('Train fake news:', train_df[train_df['true']==0].shape[0])\n",
    "\n",
    "print('Val real news:', val_df[val_df['true']==1].shape[0])\n",
    "print('Val fake news:', val_df[val_df['true']==0].shape[0])"
   ]
  },
  {
   "cell_type": "code",
   "execution_count": 5,
   "id": "001d44ea",
   "metadata": {},
   "outputs": [
    {
     "data": {
      "text/plain": [
       "'James Corden responds to Dave Grohl’s comments about being “uncomfortable” on Carpool Karaoke'"
      ]
     },
     "execution_count": 5,
     "metadata": {},
     "output_type": "execute_result"
    }
   ],
   "source": [
    "#sample real news\n",
    "train_df[train_df['true']==1].sample(n=1)['title'].iloc[0]"
   ]
  },
  {
   "cell_type": "code",
   "execution_count": 6,
   "id": "ba0b9d14",
   "metadata": {},
   "outputs": [
    {
     "data": {
      "text/plain": [
       "\"Meghan Markle Is Not Having a Maid of Honor — and Here's Why\""
      ]
     },
     "execution_count": 6,
     "metadata": {},
     "output_type": "execute_result"
    }
   ],
   "source": [
    "#sample fake news\n",
    "train_df[train_df['true']==0].sample(n=1)['title'].iloc[0]"
   ]
  },
  {
   "cell_type": "code",
   "execution_count": 7,
   "id": "482836a8",
   "metadata": {},
   "outputs": [
    {
     "data": {
      "text/plain": [
       "count    18557.000000\n",
       "mean        11.156491\n",
       "std          3.988529\n",
       "min          1.000000\n",
       "25%          9.000000\n",
       "50%         11.000000\n",
       "75%         14.000000\n",
       "max         53.000000\n",
       "Name: title, dtype: float64"
      ]
     },
     "execution_count": 7,
     "metadata": {},
     "output_type": "execute_result"
    }
   ],
   "source": [
    "# word count in news\n",
    "word_counts_train = train_df['title'].apply(lambda x: len(x.split()))\n",
    "word_counts_train.describe()"
   ]
  },
  {
   "cell_type": "code",
   "execution_count": 8,
   "id": "4467a854",
   "metadata": {},
   "outputs": [
    {
     "data": {
      "text/plain": [
       "count    4639.000000\n",
       "mean       11.179996\n",
       "std         3.934421\n",
       "min         1.000000\n",
       "25%         9.000000\n",
       "50%        11.000000\n",
       "75%        14.000000\n",
       "max        34.000000\n",
       "Name: title, dtype: float64"
      ]
     },
     "execution_count": 8,
     "metadata": {},
     "output_type": "execute_result"
    }
   ],
   "source": [
    "word_counts_val = val_df['title'].apply(lambda x: len(x.split()))\n",
    "word_counts_val.describe()"
   ]
  },
  {
   "cell_type": "code",
   "execution_count": 9,
   "id": "d9d3abdf",
   "metadata": {},
   "outputs": [
    {
     "data": {
      "image/png": "[encoded data removed]",
      "text/plain": [
       "<Figure size 640x480 with 1 Axes>"
      ]
     },
     "metadata": {},
     "output_type": "display_data"
    }
   ],
   "source": [
    "import matplotlib.pyplot as plt\n",
    "\n",
    "plt.boxplot(word_counts_train)\n",
    "plt.grid(True)\n",
    "plt.show()"
   ]
  },
  {
   "cell_type": "code",
   "execution_count": 10,
   "id": "9e337271",
   "metadata": {},
   "outputs": [
    {
     "name": "stderr",
     "output_type": "stream",
     "text": [
      "[nltk_data] Downloading package punkt to\n",
      "[nltk_data]     C:\\Users\\mai5279\\AppData\\Roaming\\nltk_data...\n",
      "[nltk_data]   Package punkt is already up-to-date!\n",
      "[nltk_data] Downloading package stopwords to\n",
      "[nltk_data]     C:\\Users\\mai5279\\AppData\\Roaming\\nltk_data...\n",
      "[nltk_data]   Package stopwords is already up-to-date!\n",
      "[nltk_data] Downloading package wordnet to\n",
      "[nltk_data]     C:\\Users\\mai5279\\AppData\\Roaming\\nltk_data...\n",
      "[nltk_data]   Package wordnet is already up-to-date!\n"
     ]
    }
   ],
   "source": [
    "import re\n",
    "import nltk\n",
    "nltk.download('punkt')\n",
    "nltk.download('stopwords')\n",
    "nltk.download('wordnet')\n",
    "from nltk.corpus import stopwords\n",
    "from nltk.tokenize import word_tokenize\n",
    "from nltk.stem import WordNetLemmatizer"
   ]
  },
  {
   "cell_type": "code",
   "execution_count": 11,
   "id": "5f9e306f",
   "metadata": {},
   "outputs": [],
   "source": [
    "stop_words = stopwords.words('english')\n",
    "stop_words.remove('not')\n",
    "lemmatizer = WordNetLemmatizer()"
   ]
  },
  {
   "cell_type": "code",
   "execution_count": 12,
   "id": "88270770",
   "metadata": {},
   "outputs": [],
   "source": [
    "def data_preprocessing(review):\n",
    "    \n",
    "    # data cleaning\n",
    "    review = re.sub(re.compile('<.*?>'), '', review) # remove html tags\n",
    "    review = re.sub('[^A-Za-z0-9]+', ' ', review) # taking only words\n",
    "    \n",
    "    # lowercase\n",
    "    review = review.lower()\n",
    "    \n",
    "    # tokenization\n",
    "    tokens = nltk.word_tokenize(review)\n",
    "    \n",
    "    # stop word removal\n",
    "    review = [word for word in tokens if word not in stop_words]\n",
    "    \n",
    "    # lemmatization\n",
    "    review = [lemmatizer.lemmatize(word) for word in review]\n",
    "    \n",
    "    # join words in preprocessed review\n",
    "    review = ' '.join(review)\n",
    "    \n",
    "    return review"
   ]
  },
  {
   "cell_type": "code",
   "execution_count": 13,
   "id": "31af3336",
   "metadata": {},
   "outputs": [
    {
     "name": "stderr",
     "output_type": "stream",
     "text": [
      "[nltk_data] Downloading package omw-1.4 to\n",
      "[nltk_data]     C:\\Users\\mai5279\\AppData\\Roaming\\nltk_data...\n",
      "[nltk_data]   Package omw-1.4 is already up-to-date!\n"
     ]
    },
    {
     "data": {
      "text/plain": [
       "True"
      ]
     },
     "execution_count": 13,
     "metadata": {},
     "output_type": "execute_result"
    }
   ],
   "source": [
    "nltk.download('omw-1.4')"
   ]
  },
  {
   "cell_type": "code",
   "execution_count": 14,
   "id": "ac2ac9e2",
   "metadata": {},
   "outputs": [
    {
     "data": {
      "text/html": [
       "<div>\n",
       "<style scoped>\n",
       "    .dataframe tbody tr th:only-of-type {\n",
       "        vertical-align: middle;\n",
       "    }\n",
       "\n",
       "    .dataframe tbody tr th {\n",
       "        vertical-align: top;\n",
       "    }\n",
       "\n",
       "    .dataframe thead th {\n",
       "        text-align: right;\n",
       "    }\n",
       "</style>\n",
       "<table border=\"1\" class=\"dataframe\">\n",
       "  <thead>\n",
       "    <tr style=\"text-align: right;\">\n",
       "      <th></th>\n",
       "      <th>title</th>\n",
       "      <th>true</th>\n",
       "      <th>preprocessed_title</th>\n",
       "    </tr>\n",
       "  </thead>\n",
       "  <tbody>\n",
       "    <tr>\n",
       "      <th>0</th>\n",
       "      <td>Kelsea Ballerini and Morgan Evans Marry in Mexico</td>\n",
       "      <td>1</td>\n",
       "      <td>kelsea ballerini morgan evans marry mexico</td>\n",
       "    </tr>\n",
       "    <tr>\n",
       "      <th>1</th>\n",
       "      <td>2018 BAFTA TV Awards complete list of nominati...</td>\n",
       "      <td>1</td>\n",
       "      <td>2018 bafta tv award complete list nomination e...</td>\n",
       "    </tr>\n",
       "    <tr>\n",
       "      <th>2</th>\n",
       "      <td>Meghan Markle Already Pregnant Month After Roy...</td>\n",
       "      <td>0</td>\n",
       "      <td>meghan markle already pregnant month royal wed...</td>\n",
       "    </tr>\n",
       "    <tr>\n",
       "      <th>3</th>\n",
       "      <td>Transcript: Blue-Ribbon Panel on Health Care</td>\n",
       "      <td>1</td>\n",
       "      <td>transcript blue ribbon panel health care</td>\n",
       "    </tr>\n",
       "    <tr>\n",
       "      <th>4</th>\n",
       "      <td>15 Things You Should Never Say to a Hardcore K...</td>\n",
       "      <td>1</td>\n",
       "      <td>15 thing never say hardcore katy perry fan</td>\n",
       "    </tr>\n",
       "    <tr>\n",
       "      <th>...</th>\n",
       "      <td>...</td>\n",
       "      <td>...</td>\n",
       "      <td>...</td>\n",
       "    </tr>\n",
       "    <tr>\n",
       "      <th>18552</th>\n",
       "      <td>RHONY: The Craziest Moments from the Epic Mexi...</td>\n",
       "      <td>1</td>\n",
       "      <td>rhony craziest moment epic mexico vacation</td>\n",
       "    </tr>\n",
       "    <tr>\n",
       "      <th>18553</th>\n",
       "      <td>Paris Jackson Celebrates 20th with Chris Brown...</td>\n",
       "      <td>1</td>\n",
       "      <td>paris jackson celebrates 20th chris brown pari...</td>\n",
       "    </tr>\n",
       "    <tr>\n",
       "      <th>18554</th>\n",
       "      <td>💕Justin Bieber and Selena Gomez Taking Some Sp...</td>\n",
       "      <td>1</td>\n",
       "      <td>justin bieber selena gomez taking space call b...</td>\n",
       "    </tr>\n",
       "    <tr>\n",
       "      <th>18555</th>\n",
       "      <td>Hilary Duff Is Pregnant! Actress Expecting a '...</td>\n",
       "      <td>1</td>\n",
       "      <td>hilary duff pregnant actress expecting little ...</td>\n",
       "    </tr>\n",
       "    <tr>\n",
       "      <th>18556</th>\n",
       "      <td>Back on the Road with Two Under 2! How Thomas ...</td>\n",
       "      <td>1</td>\n",
       "      <td>back road two 2 thomas rhett make work take on...</td>\n",
       "    </tr>\n",
       "  </tbody>\n",
       "</table>\n",
       "<p>18557 rows × 3 columns</p>\n",
       "</div>"
      ],
      "text/plain": [
       "                                                   title  true  \\\n",
       "0      Kelsea Ballerini and Morgan Evans Marry in Mexico     1   \n",
       "1      2018 BAFTA TV Awards complete list of nominati...     1   \n",
       "2      Meghan Markle Already Pregnant Month After Roy...     0   \n",
       "3           Transcript: Blue-Ribbon Panel on Health Care     1   \n",
       "4      15 Things You Should Never Say to a Hardcore K...     1   \n",
       "...                                                  ...   ...   \n",
       "18552  RHONY: The Craziest Moments from the Epic Mexi...     1   \n",
       "18553  Paris Jackson Celebrates 20th with Chris Brown...     1   \n",
       "18554  💕Justin Bieber and Selena Gomez Taking Some Sp...     1   \n",
       "18555  Hilary Duff Is Pregnant! Actress Expecting a '...     1   \n",
       "18556  Back on the Road with Two Under 2! How Thomas ...     1   \n",
       "\n",
       "                                      preprocessed_title  \n",
       "0             kelsea ballerini morgan evans marry mexico  \n",
       "1      2018 bafta tv award complete list nomination e...  \n",
       "2      meghan markle already pregnant month royal wed...  \n",
       "3               transcript blue ribbon panel health care  \n",
       "4             15 thing never say hardcore katy perry fan  \n",
       "...                                                  ...  \n",
       "18552         rhony craziest moment epic mexico vacation  \n",
       "18553  paris jackson celebrates 20th chris brown pari...  \n",
       "18554  justin bieber selena gomez taking space call b...  \n",
       "18555  hilary duff pregnant actress expecting little ...  \n",
       "18556  back road two 2 thomas rhett make work take on...  \n",
       "\n",
       "[18557 rows x 3 columns]"
      ]
     },
     "execution_count": 14,
     "metadata": {},
     "output_type": "execute_result"
    }
   ],
   "source": [
    "train_df['preprocessed_title'] = train_df['title'].apply(lambda review: data_preprocessing(review))\n",
    "train_df"
   ]
  },
  {
   "cell_type": "code",
   "execution_count": 15,
   "id": "f50a9f8e",
   "metadata": {},
   "outputs": [
    {
     "data": {
      "text/html": [
       "<div>\n",
       "<style scoped>\n",
       "    .dataframe tbody tr th:only-of-type {\n",
       "        vertical-align: middle;\n",
       "    }\n",
       "\n",
       "    .dataframe tbody tr th {\n",
       "        vertical-align: top;\n",
       "    }\n",
       "\n",
       "    .dataframe thead th {\n",
       "        text-align: right;\n",
       "    }\n",
       "</style>\n",
       "<table border=\"1\" class=\"dataframe\">\n",
       "  <thead>\n",
       "    <tr style=\"text-align: right;\">\n",
       "      <th></th>\n",
       "      <th>title</th>\n",
       "      <th>true</th>\n",
       "      <th>preprocessed_title</th>\n",
       "    </tr>\n",
       "  </thead>\n",
       "  <tbody>\n",
       "    <tr>\n",
       "      <th>0</th>\n",
       "      <td>Sen. Gregg: President Obama's Budget Proposal ...</td>\n",
       "      <td>1</td>\n",
       "      <td>sen gregg president obama budget proposal disa...</td>\n",
       "    </tr>\n",
       "    <tr>\n",
       "      <th>1</th>\n",
       "      <td>Blake Shelton BURNS Luke Bryan for Offering to...</td>\n",
       "      <td>0</td>\n",
       "      <td>blake shelton burn luke bryan offering officia...</td>\n",
       "    </tr>\n",
       "    <tr>\n",
       "      <th>2</th>\n",
       "      <td>Prince Harry Reportedly Sought Kate Middleton'...</td>\n",
       "      <td>0</td>\n",
       "      <td>prince harry reportedly sought kate middleton ...</td>\n",
       "    </tr>\n",
       "    <tr>\n",
       "      <th>3</th>\n",
       "      <td>5 Awkward Details About Blake Shelton And Gwen...</td>\n",
       "      <td>0</td>\n",
       "      <td>5 awkward detail blake shelton gwen stefani re...</td>\n",
       "    </tr>\n",
       "    <tr>\n",
       "      <th>4</th>\n",
       "      <td>The 23 best moments from the 2018 Winter Olympics</td>\n",
       "      <td>1</td>\n",
       "      <td>23 best moment 2018 winter olympics</td>\n",
       "    </tr>\n",
       "    <tr>\n",
       "      <th>...</th>\n",
       "      <td>...</td>\n",
       "      <td>...</td>\n",
       "      <td>...</td>\n",
       "    </tr>\n",
       "    <tr>\n",
       "      <th>4634</th>\n",
       "      <td>Sam Hunt Thanks Wife in BBMAs Speech After The...</td>\n",
       "      <td>1</td>\n",
       "      <td>sam hunt thanks wife bbmas speech hit award sh...</td>\n",
       "    </tr>\n",
       "    <tr>\n",
       "      <th>4635</th>\n",
       "      <td>Why Camila Cabello Is \"Traumatized\" to Do Her ...</td>\n",
       "      <td>1</td>\n",
       "      <td>camila cabello traumatized eyeliner</td>\n",
       "    </tr>\n",
       "    <tr>\n",
       "      <th>4636</th>\n",
       "      <td>New Couple Emma Watson and Robert Pattinson Se...</td>\n",
       "      <td>0</td>\n",
       "      <td>new couple emma watson robert pattinson seemin...</td>\n",
       "    </tr>\n",
       "    <tr>\n",
       "      <th>4637</th>\n",
       "      <td>Robert Kardashian</td>\n",
       "      <td>1</td>\n",
       "      <td>robert kardashian</td>\n",
       "    </tr>\n",
       "    <tr>\n",
       "      <th>4638</th>\n",
       "      <td>Brad Pitt’s Hurricane Katrina homes are fallin...</td>\n",
       "      <td>0</td>\n",
       "      <td>brad pitt hurricane katrina home falling apart...</td>\n",
       "    </tr>\n",
       "  </tbody>\n",
       "</table>\n",
       "<p>4639 rows × 3 columns</p>\n",
       "</div>"
      ],
      "text/plain": [
       "                                                  title  true  \\\n",
       "0     Sen. Gregg: President Obama's Budget Proposal ...     1   \n",
       "1     Blake Shelton BURNS Luke Bryan for Offering to...     0   \n",
       "2     Prince Harry Reportedly Sought Kate Middleton'...     0   \n",
       "3     5 Awkward Details About Blake Shelton And Gwen...     0   \n",
       "4     The 23 best moments from the 2018 Winter Olympics     1   \n",
       "...                                                 ...   ...   \n",
       "4634  Sam Hunt Thanks Wife in BBMAs Speech After The...     1   \n",
       "4635  Why Camila Cabello Is \"Traumatized\" to Do Her ...     1   \n",
       "4636  New Couple Emma Watson and Robert Pattinson Se...     0   \n",
       "4637                                  Robert Kardashian     1   \n",
       "4638  Brad Pitt’s Hurricane Katrina homes are fallin...     0   \n",
       "\n",
       "                                     preprocessed_title  \n",
       "0     sen gregg president obama budget proposal disa...  \n",
       "1     blake shelton burn luke bryan offering officia...  \n",
       "2     prince harry reportedly sought kate middleton ...  \n",
       "3     5 awkward detail blake shelton gwen stefani re...  \n",
       "4                   23 best moment 2018 winter olympics  \n",
       "...                                                 ...  \n",
       "4634  sam hunt thanks wife bbmas speech hit award sh...  \n",
       "4635                camila cabello traumatized eyeliner  \n",
       "4636  new couple emma watson robert pattinson seemin...  \n",
       "4637                                  robert kardashian  \n",
       "4638  brad pitt hurricane katrina home falling apart...  \n",
       "\n",
       "[4639 rows x 3 columns]"
      ]
     },
     "execution_count": 15,
     "metadata": {},
     "output_type": "execute_result"
    }
   ],
   "source": [
    "val_df['preprocessed_title'] = val_df['title'].apply(lambda review: data_preprocessing(review))\n",
    "val_df"
   ]
  },
  {
   "cell_type": "code",
   "execution_count": 16,
   "id": "bdbb5beb",
   "metadata": {},
   "outputs": [
    {
     "name": "stdout",
     "output_type": "stream",
     "text": [
      "ISOT length: 8980\n",
      "LIAR length: 1589\n",
      "FakeNewsDataset length: 4048\n",
      "FakeNewsNet length: 4639\n",
      "Covid-19 length: 624\n"
     ]
    }
   ],
   "source": [
    "val_df_liar['preprocessed_title'] = val_df_liar['statement'].apply(lambda review: data_preprocessing(review))\n",
    "val_df_fnd['preprocessed_title'] = val_df_fnd['title'].apply(lambda review: data_preprocessing(review))\n",
    "val_df_isot['preprocessed_title'] = val_df_isot['title'].apply(lambda review: data_preprocessing(review))\n",
    "val_df_covid['preprocessed_title'] = val_df_covid['title'].apply(lambda review: data_preprocessing(review))\n",
    "\n",
    "print('ISOT length:', len(val_df_isot))\n",
    "print('LIAR length:', len(val_df_liar))\n",
    "print('FakeNewsDataset length:', len(val_df_fnd))\n",
    "print('FakeNewsNet length:', len(val_df))\n",
    "print('Covid-19 length:', len(val_df_covid))"
   ]
  },
  {
   "cell_type": "code",
   "execution_count": 17,
   "id": "6b4a81a0",
   "metadata": {},
   "outputs": [],
   "source": [
    "X_val_liar = val_df_liar['preprocessed_title']\n",
    "y_val_liar = val_df_liar['label']\n",
    "\n",
    "X_val_fnd = val_df_fnd['preprocessed_title']\n",
    "y_val_fnd = val_df_fnd['true']\n",
    "\n",
    "X_val_isot = val_df_isot['preprocessed_title']\n",
    "y_val_isot = val_df_isot['true']\n",
    "\n",
    "X_val_covid = val_df_covid['preprocessed_title']\n",
    "y_val_covid = val_df_covid['true']"
   ]
  },
  {
   "cell_type": "code",
   "execution_count": 18,
   "id": "3fb2ab04",
   "metadata": {},
   "outputs": [
    {
     "name": "stdout",
     "output_type": "stream",
     "text": [
      "Train data: (18557,) (18557,)\n",
      "Test data: (4639,) (4639,)\n"
     ]
    }
   ],
   "source": [
    "X_train = train_df['preprocessed_title']\n",
    "X_val = val_df['preprocessed_title']\n",
    "\n",
    "y_train = train_df['true']\n",
    "y_val = val_df['true']\n",
    "\n",
    "print('Train data:', X_train.shape, y_train.shape)\n",
    "print('Test data:', X_val.shape, y_val.shape)"
   ]
  },
  {
   "cell_type": "code",
   "execution_count": 19,
   "id": "8e55e166",
   "metadata": {},
   "outputs": [
    {
     "name": "stdout",
     "output_type": "stream",
     "text": [
      "X_train_new_tfidf shape: (18557, 2683)\n",
      "X_test_news_tfidf shape: (4639, 2683)\n"
     ]
    }
   ],
   "source": [
    "# vectorizing text data: TFIDF\n",
    "from sklearn.feature_extraction.text import TfidfVectorizer\n",
    "\n",
    "vectorizer = TfidfVectorizer(min_df=10)\n",
    "\n",
    "X_train_news_tfidf = vectorizer.fit_transform(X_train)\n",
    "X_val_news_tfidf = vectorizer.transform(X_val)\n",
    "\n",
    "print('X_train_new_tfidf shape:', X_train_news_tfidf.shape)\n",
    "print('X_test_news_tfidf shape:', X_val_news_tfidf.shape)"
   ]
  },
  {
   "cell_type": "code",
   "execution_count": 20,
   "id": "88e4c7d7",
   "metadata": {},
   "outputs": [],
   "source": [
    "X_val_liar_tfidf = vectorizer.transform(X_val_liar)\n",
    "X_val_fnd_tfidf = vectorizer.transform(X_val_fnd)\n",
    "X_val_isot_tfidf = vectorizer.transform(X_val_isot)\n",
    "X_val_covid_tfidf = vectorizer.transform(X_val_covid)"
   ]
  },
  {
   "cell_type": "code",
   "execution_count": 21,
   "id": "8b49e726",
   "metadata": {},
   "outputs": [
    {
     "name": "stdout",
     "output_type": "stream",
     "text": [
      "F1 scores: \n",
      "ISOT: 0.6411422190316662\n",
      "LIAR: 0.702680412371134\n",
      "FakeNewsDataset: 0.6207257501744592\n",
      "FakeNewsNet: 0.8921330089213302\n",
      "Covid-19: 0.7522750252780587\n"
     ]
    }
   ],
   "source": [
    "# Naive Bayes\n",
    "\n",
    "from sklearn.naive_bayes import MultinomialNB\n",
    "from sklearn.metrics import accuracy_score\n",
    "from sklearn.metrics import f1_score\n",
    "\n",
    "clf = MultinomialNB(alpha=1)\n",
    "clf.fit(X_train_news_tfidf, y_train)\n",
    "\n",
    "y_pred = clf.predict(X_val_news_tfidf)\n",
    "y_pred_liar = clf.predict(X_val_liar_tfidf)\n",
    "y_pred_fnd = clf.predict(X_val_fnd_tfidf)\n",
    "y_pred_isot = clf.predict(X_val_isot_tfidf)\n",
    "y_pred_covid = clf.predict(X_val_covid_tfidf)\n",
    "\n",
    "#print('Test Accuracy:', accuracy_score(y_val, y_pred))\n",
    "print('F1 scores: ')\n",
    "print('ISOT:', f1_score(y_val_isot, y_pred_isot))\n",
    "print('LIAR:', f1_score(y_val_liar, y_pred_liar))\n",
    "print('FakeNewsDataset:', f1_score(y_val_fnd, y_pred_fnd))\n",
    "print('FakeNewsNet:', f1_score(y_val, y_pred))\n",
    "print('Covid-19:', f1_score(y_val_covid, y_pred_covid))"
   ]
  },
  {
   "cell_type": "code",
   "execution_count": 22,
   "id": "90293f50",
   "metadata": {},
   "outputs": [
    {
     "data": {
      "image/png": "[encoded data removed]",
      "text/plain": [
       "<Figure size 500x300 with 2 Axes>"
      ]
     },
     "metadata": {},
     "output_type": "display_data"
    }
   ],
   "source": [
    "from sklearn.metrics import confusion_matrix\n",
    "import seaborn as sns\n",
    "\n",
    "cm = confusion_matrix(y_val, y_pred)\n",
    "plt.figure(figsize=(5, 3))\n",
    "sns.heatmap(cm, annot=True, fmt='d')\n",
    "plt.title('Test Confusion Matrix')\n",
    "plt.show()"
   ]
  },
  {
   "cell_type": "code",
   "execution_count": 23,
   "id": "11296eba",
   "metadata": {},
   "outputs": [
    {
     "name": "stdout",
     "output_type": "stream",
     "text": [
      "F1 scores: \n",
      "ISOT: 0.5970011958421488\n",
      "LIAR: 0.6986936367467341\n",
      "FakeNewsDataset: 0.5698005698005698\n",
      "FakeNewsNet: 0.8902405308266519\n",
      "Covid-19: 0.733828207847296\n"
     ]
    }
   ],
   "source": [
    "from sklearn.ensemble import RandomForestClassifier\n",
    "\n",
    "clf = RandomForestClassifier()\n",
    "clf.fit(X_train_news_tfidf, y_train)\n",
    "\n",
    "y_pred = clf.predict(X_val_news_tfidf)\n",
    "#print('Test Accuracy:', accuracy_score(y_val, y_pred))\n",
    "\n",
    "y_pred = clf.predict(X_val_news_tfidf)\n",
    "y_pred_liar = clf.predict(X_val_liar_tfidf)\n",
    "y_pred_fnd = clf.predict(X_val_fnd_tfidf)\n",
    "y_pred_isot = clf.predict(X_val_isot_tfidf)\n",
    "y_pred_covid = clf.predict(X_val_covid_tfidf)\n",
    "\n",
    "#print('Test Accuracy:', accuracy_score(y_val, y_pred))\n",
    "print('F1 scores: ')\n",
    "print('ISOT:', f1_score(y_val_isot, y_pred_isot))\n",
    "print('LIAR:', f1_score(y_val_liar, y_pred_liar))\n",
    "print('FakeNewsDataset:', f1_score(y_val_fnd, y_pred_fnd))\n",
    "print('FakeNewsNet:', f1_score(y_val, y_pred))\n",
    "print('Covid-19:', f1_score(y_val_covid, y_pred_covid))"
   ]
  },
  {
   "cell_type": "code",
   "execution_count": 24,
   "id": "4789960e",
   "metadata": {},
   "outputs": [
    {
     "data": {
      "image/png": "[encoded data removed]",
      "text/plain": [
       "<Figure size 500x300 with 2 Axes>"
      ]
     },
     "metadata": {},
     "output_type": "display_data"
    }
   ],
   "source": [
    "cm = confusion_matrix(y_val, y_pred)\n",
    "plt.figure(figsize=(5, 3))\n",
    "sns.heatmap(cm, annot=True, fmt='d')\n",
    "plt.title('Test Confusion Matrix')\n",
    "plt.show()"
   ]
  },
  {
   "cell_type": "code",
   "execution_count": 25,
   "id": "5859353c",
   "metadata": {},
   "outputs": [
    {
     "name": "stdout",
     "output_type": "stream",
     "text": [
      "F1 scores: \n",
      "ISOT: 0.658740157480315\n",
      "LIAR: 0.702791461412151\n",
      "FakeNewsDataset: 0.6396551724137931\n",
      "FakeNewsNet: 0.8792918454935622\n",
      "Covid-19: 0.7625754527162978\n"
     ]
    }
   ],
   "source": [
    "from sklearn.ensemble import AdaBoostClassifier\n",
    "\n",
    "clf = AdaBoostClassifier()\n",
    "clf.fit(X_train_news_tfidf, y_train)\n",
    "\n",
    "y_pred = clf.predict(X_val_news_tfidf)\n",
    "y_pred_liar = clf.predict(X_val_liar_tfidf)\n",
    "y_pred_fnd = clf.predict(X_val_fnd_tfidf)\n",
    "y_pred_isot = clf.predict(X_val_isot_tfidf)\n",
    "y_pred_covid = clf.predict(X_val_covid_tfidf)\n",
    "\n",
    "#print('Test Accuracy:', accuracy_score(y_val, y_pred))\n",
    "print('F1 scores: ')\n",
    "print('ISOT:', f1_score(y_val_isot, y_pred_isot))\n",
    "print('LIAR:', f1_score(y_val_liar, y_pred_liar))\n",
    "print('FakeNewsDataset:', f1_score(y_val_fnd, y_pred_fnd))\n",
    "print('FakeNewsNet:', f1_score(y_val, y_pred))\n",
    "print('Covid-19:', f1_score(y_val_covid, y_pred_covid))"
   ]
  },
  {
   "cell_type": "code",
   "execution_count": 26,
   "id": "23e33306",
   "metadata": {},
   "outputs": [
    {
     "data": {
      "image/png": "[encoded data removed]",
      "text/plain": [
       "<Figure size 500x300 with 2 Axes>"
      ]
     },
     "metadata": {},
     "output_type": "display_data"
    }
   ],
   "source": [
    "cm = confusion_matrix(y_val, y_pred)\n",
    "plt.figure(figsize=(5, 3))\n",
    "sns.heatmap(cm, annot=True, fmt='d')\n",
    "plt.title('Test Confusion Matrix')\n",
    "plt.show()"
   ]
  },
  {
   "cell_type": "code",
   "execution_count": 27,
   "id": "18821240",
   "metadata": {},
   "outputs": [
    {
     "name": "stdout",
     "output_type": "stream",
     "text": [
      "F1 scores: \n",
      "ISOT: 0.6436117656000607\n",
      "LIAR: 0.7040523945968072\n",
      "FakeNewsDataset: 0.6386583093342368\n",
      "FakeNewsNet: 0.8699326554865973\n",
      "Covid-19: 0.7547547547547547\n"
     ]
    }
   ],
   "source": [
    "from sklearn.neighbors import KNeighborsClassifier\n",
    "\n",
    "clf = KNeighborsClassifier()\n",
    "clf.fit(X_train_news_tfidf, y_train)\n",
    "\n",
    "y_pred = clf.predict(X_val_news_tfidf)\n",
    "\n",
    "y_pred = clf.predict(X_val_news_tfidf)\n",
    "y_pred_liar = clf.predict(X_val_liar_tfidf)\n",
    "y_pred_fnd = clf.predict(X_val_fnd_tfidf)\n",
    "y_pred_isot = clf.predict(X_val_isot_tfidf)\n",
    "y_pred_covid = clf.predict(X_val_covid_tfidf)\n",
    "\n",
    "#print('Test Accuracy:', accuracy_score(y_val, y_pred))\n",
    "print('F1 scores: ')\n",
    "print('ISOT:', f1_score(y_val_isot, y_pred_isot))\n",
    "print('LIAR:', f1_score(y_val_liar, y_pred_liar))\n",
    "print('FakeNewsDataset:', f1_score(y_val_fnd, y_pred_fnd))\n",
    "print('FakeNewsNet:', f1_score(y_val, y_pred))\n",
    "print('Covid-19:', f1_score(y_val_covid, y_pred_covid))"
   ]
  },
  {
   "cell_type": "code",
   "execution_count": 28,
   "id": "6f37d8dd",
   "metadata": {},
   "outputs": [
    {
     "data": {
      "image/png": "[encoded data removed]",
      "text/plain": [
       "<Figure size 500x300 with 2 Axes>"
      ]
     },
     "metadata": {},
     "output_type": "display_data"
    }
   ],
   "source": [
    "cm = confusion_matrix(y_val, y_pred)\n",
    "plt.figure(figsize=(5, 3))\n",
    "sns.heatmap(cm, annot=True, fmt='d')\n",
    "plt.title('Test Confusion Matrix')\n",
    "plt.show()"
   ]
  },
  {
   "cell_type": "code",
   "execution_count": 29,
   "id": "2d0ba893",
   "metadata": {},
   "outputs": [
    {
     "name": "stdout",
     "output_type": "stream",
     "text": [
      "F1 scores: \n",
      "ISOT: 0.6603511637403021\n",
      "LIAR: 0.7023907666941468\n",
      "FakeNewsDataset: 0.627526806117068\n",
      "FakeNewsNet: 0.8891873740765615\n",
      "Covid-19: 0.7713717693836978\n"
     ]
    }
   ],
   "source": [
    "import xgboost as xgb\n",
    "\n",
    "xgb_model = xgb.XGBClassifier(objective='binary:logistic', random_state=42)\n",
    "xgb_model.fit(X_train_news_tfidf, y_train)\n",
    "\n",
    "y_pred = xgb_model.predict(X_val_news_tfidf)\n",
    "y_pred_liar = xgb_model.predict(X_val_liar_tfidf)\n",
    "y_pred_fnd = xgb_model.predict(X_val_fnd_tfidf)\n",
    "y_pred_isot = xgb_model.predict(X_val_isot_tfidf)\n",
    "y_pred_covid = xgb_model.predict(X_val_covid_tfidf)\n",
    "\n",
    "#print('Test Accuracy:', accuracy_score(y_val, y_pred))\n",
    "print('F1 scores: ')\n",
    "print('ISOT:', f1_score(y_val_isot, y_pred_isot))\n",
    "print('LIAR:', f1_score(y_val_liar, y_pred_liar))\n",
    "print('FakeNewsDataset:', f1_score(y_val_fnd, y_pred_fnd))\n",
    "print('FakeNewsNet:', f1_score(y_val, y_pred))\n",
    "print('Covid-19:', f1_score(y_val_covid, y_pred_covid))"
   ]
  },
  {
   "cell_type": "code",
   "execution_count": 30,
   "id": "ef8e55b4",
   "metadata": {},
   "outputs": [
    {
     "name": "stdout",
     "output_type": "stream",
     "text": [
      "F1 scores: \n",
      "ISOT: 0.6413134528396717\n",
      "LIAR: 0.7012772970745776\n",
      "FakeNewsDataset: 0.6154674322626952\n",
      "FakeNewsNet: 0.8993343295747861\n",
      "Covid-19: 0.7598784194528875\n"
     ]
    }
   ],
   "source": [
    "from sklearn import svm\n",
    "\n",
    "clf = svm.SVC()\n",
    "clf.fit(X_train_news_tfidf, y_train)\n",
    "\n",
    "y_pred = clf.predict(X_val_news_tfidf)\n",
    "y_pred_liar = clf.predict(X_val_liar_tfidf)\n",
    "y_pred_fnd = clf.predict(X_val_fnd_tfidf)\n",
    "y_pred_isot = clf.predict(X_val_isot_tfidf)\n",
    "y_pred_covid = clf.predict(X_val_covid_tfidf)\n",
    "\n",
    "#print('Test Accuracy:', accuracy_score(y_val, y_pred))\n",
    "print('F1 scores: ')\n",
    "print('ISOT:', f1_score(y_val_isot, y_pred_isot))\n",
    "print('LIAR:', f1_score(y_val_liar, y_pred_liar))\n",
    "print('FakeNewsDataset:', f1_score(y_val_fnd, y_pred_fnd))\n",
    "print('FakeNewsNet:', f1_score(y_val, y_pred))\n",
    "print('Covid-19:', f1_score(y_val_covid, y_pred_covid))"
   ]
  }
 ],
 "metadata": {
  "kernelspec": {
   "display_name": "Python 3 (ipykernel)",
   "language": "python",
   "name": "python3"
  },
  "language_info": {
   "codemirror_mode": {
    "name": "ipython",
    "version": 3
   },
   "file_extension": ".py",
   "mimetype": "text/x-python",
   "name": "python",
   "nbconvert_exporter": "python",
   "pygments_lexer": "ipython3",
   "version": "3.10.9"
  }
 },
 "nbformat": 4,
 "nbformat_minor": 5
}
